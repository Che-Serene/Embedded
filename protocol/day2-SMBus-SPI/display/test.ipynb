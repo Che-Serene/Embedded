{
 "cells": [
  {
   "cell_type": "code",
   "execution_count": 1,
   "id": "84c06499",
   "metadata": {},
   "outputs": [],
   "source": [
    "import os"
   ]
  },
  {
   "cell_type": "code",
   "execution_count": 2,
   "id": "6c906bb5",
   "metadata": {},
   "outputs": [],
   "source": [
    "imgs = os.listdir('gifs')"
   ]
  },
  {
   "cell_type": "code",
   "execution_count": 3,
   "id": "d4da6245",
   "metadata": {},
   "outputs": [
    {
     "data": {
      "text/plain": [
       "['d73efc9b476591dda4e5f50ae5887439f43ad912ad8dd55b04db6a64cddaf76d-0013.jpg',\n",
       " 'd73efc9b476591dda4e5f50ae5887439f43ad912ad8dd55b04db6a64cddaf76d-0009.jpg',\n",
       " 'd73efc9b476591dda4e5f50ae5887439f43ad912ad8dd55b04db6a64cddaf76d-0014.jpg',\n",
       " 'd73efc9b476591dda4e5f50ae5887439f43ad912ad8dd55b04db6a64cddaf76d-0003.jpg',\n",
       " 'd73efc9b476591dda4e5f50ae5887439f43ad912ad8dd55b04db6a64cddaf76d-0000.jpg',\n",
       " 'd73efc9b476591dda4e5f50ae5887439f43ad912ad8dd55b04db6a64cddaf76d-0011.jpg',\n",
       " 'd73efc9b476591dda4e5f50ae5887439f43ad912ad8dd55b04db6a64cddaf76d-0006.jpg',\n",
       " 'd73efc9b476591dda4e5f50ae5887439f43ad912ad8dd55b04db6a64cddaf76d-0010.jpg',\n",
       " 'd73efc9b476591dda4e5f50ae5887439f43ad912ad8dd55b04db6a64cddaf76d-0004.jpg',\n",
       " 'd73efc9b476591dda4e5f50ae5887439f43ad912ad8dd55b04db6a64cddaf76d-0002.jpg',\n",
       " 'd73efc9b476591dda4e5f50ae5887439f43ad912ad8dd55b04db6a64cddaf76d-0007.jpg',\n",
       " 'd73efc9b476591dda4e5f50ae5887439f43ad912ad8dd55b04db6a64cddaf76d-0015.jpg',\n",
       " 'd73efc9b476591dda4e5f50ae5887439f43ad912ad8dd55b04db6a64cddaf76d-0012.jpg',\n",
       " 'd73efc9b476591dda4e5f50ae5887439f43ad912ad8dd55b04db6a64cddaf76d-0008.jpg',\n",
       " 'd73efc9b476591dda4e5f50ae5887439f43ad912ad8dd55b04db6a64cddaf76d-0016.jpg',\n",
       " 'd73efc9b476591dda4e5f50ae5887439f43ad912ad8dd55b04db6a64cddaf76d-0001.jpg',\n",
       " 'd73efc9b476591dda4e5f50ae5887439f43ad912ad8dd55b04db6a64cddaf76d-0017.jpg',\n",
       " 'd73efc9b476591dda4e5f50ae5887439f43ad912ad8dd55b04db6a64cddaf76d-0005.jpg']"
      ]
     },
     "execution_count": 3,
     "metadata": {},
     "output_type": "execute_result"
    }
   ],
   "source": [
    "imgs"
   ]
  },
  {
   "cell_type": "code",
   "execution_count": 4,
   "id": "0da23b29",
   "metadata": {},
   "outputs": [],
   "source": [
    "import datetime"
   ]
  },
  {
   "cell_type": "code",
   "execution_count": 9,
   "id": "0625705c",
   "metadata": {},
   "outputs": [
    {
     "data": {
      "text/plain": [
       "'10:48:31'"
      ]
     },
     "execution_count": 9,
     "metadata": {},
     "output_type": "execute_result"
    }
   ],
   "source": [
    "datetime.datetime.now().strftime('%H:%M:%S')"
   ]
  },
  {
   "cell_type": "code",
   "execution_count": null,
   "id": "6d80e824",
   "metadata": {},
   "outputs": [],
   "source": []
  }
 ],
 "metadata": {
  "kernelspec": {
   "display_name": ".venv",
   "language": "python",
   "name": "python3"
  },
  "language_info": {
   "codemirror_mode": {
    "name": "ipython",
    "version": 3
   },
   "file_extension": ".py",
   "mimetype": "text/x-python",
   "name": "python",
   "nbconvert_exporter": "python",
   "pygments_lexer": "ipython3",
   "version": "3.11.2"
  }
 },
 "nbformat": 4,
 "nbformat_minor": 5
}
