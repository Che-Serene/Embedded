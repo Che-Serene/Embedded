{
 "cells": [
  {
   "cell_type": "code",
   "execution_count": 2,
   "id": "d399406c",
   "metadata": {},
   "outputs": [],
   "source": [
    "from gpiozero import Button"
   ]
  },
  {
   "cell_type": "code",
   "execution_count": 2,
   "id": "14c6b1df",
   "metadata": {},
   "outputs": [],
   "source": [
    "btn = Button(18, pull_up= True)"
   ]
  },
  {
   "cell_type": "code",
   "execution_count": 5,
   "id": "17ff1a19",
   "metadata": {},
   "outputs": [
    {
     "data": {
      "text/plain": [
       "False"
      ]
     },
     "execution_count": 5,
     "metadata": {},
     "output_type": "execute_result"
    }
   ],
   "source": [
    "btn.is_active"
   ]
  },
  {
   "cell_type": "code",
   "execution_count": null,
   "id": "40bbfd73",
   "metadata": {},
   "outputs": [
    {
     "name": "stdout",
     "output_type": "stream",
     "text": [
      "0\n"
     ]
    },
    {
     "ename": "",
     "evalue": "",
     "output_type": "error",
     "traceback": [
      "\u001b[1;31mThe Kernel crashed while executing code in the current cell or a previous cell. \n",
      "\u001b[1;31mPlease review the code in the cell(s) to identify a possible cause of the failure. \n",
      "\u001b[1;31mClick <a href='https://aka.ms/vscodeJupyterKernelCrash'>here</a> for more info. \n",
      "\u001b[1;31mView Jupyter <a href='command:jupyter.viewOutput'>log</a> for further details."
     ]
    }
   ],
   "source": [
    "\n",
    "count = 0\n",
    "\n",
    "def on_press() :\n",
    "    print(\"pressed\")\n",
    "\n",
    "def on_release() :\n",
    "    global count\n",
    "    print(\"released\")\n",
    "    count+=1\n",
    "\n",
    "btn.when_pressed = on_press\n",
    "btn.when_released = on_release\n",
    "print(count)\n",
    "\n",
    "if count <=9 :\n",
    "    btn.close()"
   ]
  },
  {
   "cell_type": "code",
   "execution_count": null,
   "id": "eacdd724",
   "metadata": {},
   "outputs": [
    {
     "name": "stdout",
     "output_type": "stream",
     "text": [
      "1\n",
      "2\n",
      "3\n",
      "4\n",
      "5\n",
      "6\n",
      "7\n",
      "8\n",
      "9\n",
      "10\n"
     ]
    }
   ],
   "source": [
    "count = 0\n",
    "\n"
   ]
  },
  {
   "cell_type": "code",
   "execution_count": null,
   "id": "98d8d531",
   "metadata": {},
   "outputs": [
    {
     "name": "stdout",
     "output_type": "stream",
     "text": [
      "pressed\n",
      "released\n",
      "pressed\n",
      "released\n",
      "pressed\n",
      "released\n",
      "pressed\n",
      "released\n",
      "pressed\n",
      "released\n",
      "pressed\n",
      "released\n",
      "pressed\n",
      "released\n",
      "pressed\n",
      "released\n",
      "pressed\n",
      "released\n",
      "pressed\n",
      "released\n"
     ]
    },
    {
     "ename": "",
     "evalue": "",
     "output_type": "error",
     "traceback": [
      "\u001b[1;31mThe Kernel crashed while executing code in the current cell or a previous cell. \n",
      "\u001b[1;31mPlease review the code in the cell(s) to identify a possible cause of the failure. \n",
      "\u001b[1;31mClick <a href='https://aka.ms/vscodeJupyterKernelCrash'>here</a> for more info. \n",
      "\u001b[1;31mView Jupyter <a href='command:jupyter.viewOutput'>log</a> for further details."
     ]
    }
   ],
   "source": [
    "btn = Button(13, pull_up= True)\n",
    "\n",
    "count = 0\n",
    "\n",
    "while count < 10:\n",
    "    btn.wait_for_press()\n",
    "    print(\"pressed\")\n",
    "    btn.wait_for_release()\n",
    "    print(\"released\")\n",
    "    count += 1\n",
    "\n",
    "btn.close()"
   ]
  },
  {
   "cell_type": "code",
   "execution_count": null,
   "id": "680d22b1",
   "metadata": {},
   "outputs": [],
   "source": []
  }
 ],
 "metadata": {
  "kernelspec": {
   "display_name": ".venv",
   "language": "python",
   "name": "python3"
  },
  "language_info": {
   "codemirror_mode": {
    "name": "ipython",
    "version": 3
   },
   "file_extension": ".py",
   "mimetype": "text/x-python",
   "name": "python",
   "nbconvert_exporter": "python",
   "pygments_lexer": "ipython3",
   "version": "3.11.2"
  }
 },
 "nbformat": 4,
 "nbformat_minor": 5
}
